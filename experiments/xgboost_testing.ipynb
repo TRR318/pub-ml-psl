{
 "cells": [
  {
   "cell_type": "code",
   "execution_count": 11,
   "metadata": {},
   "outputs": [],
   "source": [
    "from inspect import getfullargspec, signature\n",
    "from itertools import product, chain\n",
    "\n",
    "import pandas as pd\n",
    "from joblib import delayed, wrap_non_picklable_objects, Parallel\n",
    "from sklearn.impute import SimpleImputer\n",
    "import xgboost as xgb\n",
    "from sklearn.model_selection import cross_validate, ShuffleSplit\n",
    "from sklearn.metrics import (\n",
    "    make_scorer,\n",
    "    get_scorer,\n",
    "    confusion_matrix,\n",
    "    recall_score,\n",
    ")\n",
    "from sklearn.pipeline import make_pipeline\n",
    "from sklearn.preprocessing import FunctionTransformer\n",
    "from tqdm import tqdm\n",
    "from functools import reduce\n",
    "from operator import or_\n",
    "\n",
    "from experiments.util import DataLoader\n",
    "from experiments.util import ResultHandler\n",
    "from skpsl import ProbabilisticScoringList\n",
    "from skpsl.preprocessing.binarizer import MinEntropyBinarizer\n",
    "from skpsl.metrics import expected_entropy_loss, weighted_loss, soft_ranking_loss\n"
   ]
  },
  {
   "cell_type": "code",
   "execution_count": 12,
   "metadata": {},
   "outputs": [],
   "source": [
    "# RESULTFOLDER = \"experimentsresults\"\n",
    "DATAFOLDER = \"experiments/data\""
   ]
  },
  {
   "cell_type": "code",
   "execution_count": 13,
   "metadata": {},
   "outputs": [
    {
     "name": "stdout",
     "output_type": "stream",
     "text": [
      "experiments/data/thorax.csv\n"
     ]
    }
   ],
   "source": [
    "X, y = DataLoader(DATAFOLDER).load(\"thorax\")\n"
   ]
  },
  {
   "cell_type": "code",
   "execution_count": 14,
   "metadata": {},
   "outputs": [],
   "source": [
    "from sklearn.model_selection import train_test_split\n",
    "from sklearn.pipeline import make_pipeline\n",
    "X_train, X_test, y_train, y_test = train_test_split(X,y,test_size=0.33)"
   ]
  },
  {
   "cell_type": "code",
   "execution_count": 15,
   "metadata": {},
   "outputs": [],
   "source": [
    "def conservative_weighted_loss(y_true, y_prob, m=10, *, sample_weight=None):\n",
    "    lb, ub = y_prob.T\n",
    "    tn, fp, fn, tp = confusion_matrix(\n",
    "        y_true, 1 - ub < m * ub, sample_weight=sample_weight, normalize=\"all\"\n",
    "    ).ravel()\n",
    "    return fp + m * fn\n"
   ]
  },
  {
   "cell_type": "code",
   "execution_count": 19,
   "metadata": {},
   "outputs": [],
   "source": [
    "losses_in = []\n",
    "losses_out = []\n",
    "stages = []\n",
    "psl_pipeline = make_pipeline(\n",
    "    SimpleImputer(missing_values=-1, strategy=\"most_frequent\"),\n",
    "    ProbabilisticScoringList(score_set=set(list(range(-3,4)))),\n",
    ").fit(X_train, y_train)\n",
    "\n",
    "psl = psl_pipeline[1]\n",
    "for k, stage in enumerate(psl):\n",
    "    if k == 0:\n",
    "        continue\n",
    "\n",
    "    X_train_ = X_train[:, stage.features]\n",
    "    X_test_ = X_test[:, stage.features]\n",
    "\n",
    "    clf_pipeline = make_pipeline(\n",
    "        SimpleImputer(missing_values=-1, strategy=\"most_frequent\"),\n",
    "        xgb.XGBClassifier(**{'max_depth': 5, 'learning_rate': 0.08278264552785686, 'n_estimators': 97, 'subsample': 0.741171103114342, 'gamma': 0.470929356727593}),\n",
    "    ).fit(X_train_, y_train)\n",
    "\n",
    "    y_proba_out = clf_pipeline.predict_proba(X_test_)\n",
    "    y_proba_in = clf_pipeline.predict_proba(X_train_)\n",
    "    stages.append(k)\n",
    "    losses_out.append(conservative_weighted_loss(y_test, y_proba_out, m=10))\n",
    "    losses_in.append(conservative_weighted_loss(y_train, y_proba_in, m=10))"
   ]
  },
  {
   "cell_type": "code",
   "execution_count": 20,
   "metadata": {},
   "outputs": [
    {
     "data": {
      "text/plain": [
       "[<matplotlib.lines.Line2D at 0x7f89f8893850>]"
      ]
     },
     "execution_count": 20,
     "metadata": {},
     "output_type": "execute_result"
    },
    {
     "data": {
      "image/png": "[encoded data removed]",
      "text/plain": [
       "<Figure size 640x480 with 2 Axes>"
      ]
     },
     "metadata": {},
     "output_type": "display_data"
    }
   ],
   "source": [
    "import matplotlib.pyplot as plt\n",
    "fig, axes = plt.subplots(2)\n",
    "axes[0].plot(stages,losses_in)\n",
    "axes[1].plot(stages,losses_out)"
   ]
  },
  {
   "cell_type": "code",
   "execution_count": 18,
   "metadata": {},
   "outputs": [
    {
     "name": "stderr",
     "output_type": "stream",
     "text": [
      "[I 2024-09-12 15:17:15,461] A new study created in memory with name: no-name-03edc7ae-bb0a-4531-b113-d03e53bf8fdd\n",
      "[I 2024-09-12 15:17:16,758] Trial 0 finished with value: 0.5277777777777779 and parameters: {'max_depth': 10, 'learning_rate': 0.03971945286739296, 'n_estimators': 285, 'subsample': 0.7288102028777939, 'gamma': 0.19734838906509328}. Best is trial 0 with value: 0.5277777777777779.\n",
      "[I 2024-09-12 15:17:17,698] Trial 1 finished with value: 0.5186868686868686 and parameters: {'max_depth': 8, 'learning_rate': 0.028556436715021907, 'n_estimators': 298, 'subsample': 0.9556442397026034, 'gamma': 0.4572896501877388}. Best is trial 1 with value: 0.5186868686868686.\n",
      "[I 2024-09-12 15:17:18,395] Trial 2 finished with value: 0.5199494949494949 and parameters: {'max_depth': 7, 'learning_rate': 0.1294072297976842, 'n_estimators': 220, 'subsample': 0.8179544327430673, 'gamma': 0.4058892906845712}. Best is trial 1 with value: 0.5186868686868686.\n",
      "[I 2024-09-12 15:17:18,836] Trial 3 finished with value: 0.5361111111111112 and parameters: {'max_depth': 8, 'learning_rate': 0.032900582997175035, 'n_estimators': 59, 'subsample': 0.7552109342773424, 'gamma': 0.33147498055473035}. Best is trial 1 with value: 0.5186868686868686.\n",
      "[I 2024-09-12 15:17:19,849] Trial 4 finished with value: 0.578030303030303 and parameters: {'max_depth': 6, 'learning_rate': 0.26527341802446747, 'n_estimators': 269, 'subsample': 0.8902693017234791, 'gamma': 0.13515100082321446}. Best is trial 1 with value: 0.5186868686868686.\n",
      "[I 2024-09-12 15:17:20,615] Trial 5 finished with value: 0.5227272727272727 and parameters: {'max_depth': 8, 'learning_rate': 0.17219365300191591, 'n_estimators': 107, 'subsample': 0.8758857611156037, 'gamma': 0.2731193042311132}. Best is trial 1 with value: 0.5186868686868686.\n",
      "[I 2024-09-12 15:17:21,117] Trial 6 finished with value: 0.5648989898989899 and parameters: {'max_depth': 10, 'learning_rate': 0.29128204272643576, 'n_estimators': 165, 'subsample': 0.9130646686968716, 'gamma': 0.17155659600327522}. Best is trial 1 with value: 0.5186868686868686.\n",
      "[I 2024-09-12 15:17:22,345] Trial 7 finished with value: 0.5176767676767677 and parameters: {'max_depth': 3, 'learning_rate': 0.17595081565701692, 'n_estimators': 295, 'subsample': 0.6231431943154834, 'gamma': 0.2700259894847138}. Best is trial 7 with value: 0.5176767676767677.\n",
      "[I 2024-09-12 15:17:23,095] Trial 8 finished with value: 0.5621212121212121 and parameters: {'max_depth': 8, 'learning_rate': 0.10799331736150493, 'n_estimators': 163, 'subsample': 0.688985645661229, 'gamma': 0.12846747996560498}. Best is trial 7 with value: 0.5176767676767677.\n",
      "[I 2024-09-12 15:17:24,365] Trial 9 finished with value: 0.557070707070707 and parameters: {'max_depth': 8, 'learning_rate': 0.2548751223083755, 'n_estimators': 273, 'subsample': 0.6391492785371237, 'gamma': 0.3606740113943812}. Best is trial 7 with value: 0.5176767676767677.\n",
      "[I 2024-09-12 15:17:25,051] Trial 10 finished with value: 0.5179292929292929 and parameters: {'max_depth': 3, 'learning_rate': 0.17472345002183112, 'n_estimators': 223, 'subsample': 0.6060555364124514, 'gamma': 0.06479935172338186}. Best is trial 7 with value: 0.5176767676767677.\n",
      "[I 2024-09-12 15:17:25,981] Trial 11 finished with value: 0.513888888888889 and parameters: {'max_depth': 3, 'learning_rate': 0.18869370758659693, 'n_estimators': 226, 'subsample': 0.6139242484420087, 'gamma': 0.013947892460059952}. Best is trial 11 with value: 0.513888888888889.\n",
      "[I 2024-09-12 15:17:26,757] Trial 12 finished with value: 0.5088383838383839 and parameters: {'max_depth': 3, 'learning_rate': 0.2134585922438325, 'n_estimators': 224, 'subsample': 0.6679070271423502, 'gamma': 0.2727304509148082}. Best is trial 12 with value: 0.5088383838383839.\n",
      "[I 2024-09-12 15:17:27,759] Trial 13 finished with value: 0.5729797979797979 and parameters: {'max_depth': 5, 'learning_rate': 0.22446729275525207, 'n_estimators': 220, 'subsample': 0.6770269719868081, 'gamma': 0.017312193831960032}. Best is trial 12 with value: 0.5088383838383839.\n",
      "[I 2024-09-12 15:17:29,067] Trial 14 finished with value: 0.5542929292929293 and parameters: {'max_depth': 4, 'learning_rate': 0.21132889800708457, 'n_estimators': 191, 'subsample': 0.7914645006247091, 'gamma': 0.22820891036106333}. Best is trial 12 with value: 0.5088383838383839.\n",
      "[I 2024-09-12 15:17:29,882] Trial 15 finished with value: 0.5590909090909092 and parameters: {'max_depth': 4, 'learning_rate': 0.21470343916738174, 'n_estimators': 237, 'subsample': 0.6846741669204577, 'gamma': 0.07333393590606951}. Best is trial 12 with value: 0.5088383838383839.\n",
      "[I 2024-09-12 15:17:33,576] Trial 16 finished with value: 0.5113636363636365 and parameters: {'max_depth': 4, 'learning_rate': 0.0837755151742521, 'n_estimators': 132, 'subsample': 0.601352259610023, 'gamma': 0.3115176375287448}. Best is trial 12 with value: 0.5088383838383839.\n",
      "[I 2024-09-12 15:17:35,712] Trial 17 finished with value: 0.5040404040404042 and parameters: {'max_depth': 5, 'learning_rate': 0.08157486648002851, 'n_estimators': 125, 'subsample': 0.7377428030943207, 'gamma': 0.3348163450828597}. Best is trial 17 with value: 0.5040404040404042.\n",
      "[I 2024-09-12 15:17:36,829] Trial 18 finished with value: 0.5002525252525253 and parameters: {'max_depth': 5, 'learning_rate': 0.08278264552785686, 'n_estimators': 97, 'subsample': 0.741171103114342, 'gamma': 0.470929356727593}. Best is trial 18 with value: 0.5002525252525253.\n",
      "[I 2024-09-12 15:17:38,001] Trial 19 finished with value: 0.5194444444444444 and parameters: {'max_depth': 6, 'learning_rate': 0.07090286335310379, 'n_estimators': 79, 'subsample': 0.8114497016016851, 'gamma': 0.49965695524804066}. Best is trial 18 with value: 0.5002525252525253.\n",
      "[I 2024-09-12 15:17:38,451] Trial 20 finished with value: 0.5080808080808081 and parameters: {'max_depth': 5, 'learning_rate': 0.13223887494756753, 'n_estimators': 113, 'subsample': 0.739916394483851, 'gamma': 0.4040922513499635}. Best is trial 18 with value: 0.5002525252525253.\n",
      "[I 2024-09-12 15:17:39,612] Trial 21 finished with value: 0.5088383838383839 and parameters: {'max_depth': 5, 'learning_rate': 0.1270781609027753, 'n_estimators': 120, 'subsample': 0.7418581330854163, 'gamma': 0.40563254674050525}. Best is trial 18 with value: 0.5002525252525253.\n",
      "[I 2024-09-12 15:17:40,865] Trial 22 finished with value: 0.5146464646464646 and parameters: {'max_depth': 5, 'learning_rate': 0.06537289089490539, 'n_estimators': 90, 'subsample': 0.7763285552580557, 'gamma': 0.4051683578104831}. Best is trial 18 with value: 0.5002525252525253.\n",
      "[I 2024-09-12 15:17:41,916] Trial 23 finished with value: 0.5181818181818181 and parameters: {'max_depth': 6, 'learning_rate': 0.10597573329633433, 'n_estimators': 141, 'subsample': 0.7223649359884488, 'gamma': 0.47264631918389094}. Best is trial 18 with value: 0.5002525252525253.\n",
      "[I 2024-09-12 15:17:42,656] Trial 24 finished with value: 0.5181818181818183 and parameters: {'max_depth': 5, 'learning_rate': 0.14395197335462437, 'n_estimators': 57, 'subsample': 0.8347909917527363, 'gamma': 0.36607506537298795}. Best is trial 18 with value: 0.5002525252525253.\n",
      "[I 2024-09-12 15:17:45,168] Trial 25 finished with value: 0.5126262626262625 and parameters: {'max_depth': 7, 'learning_rate': 0.09239786929060122, 'n_estimators': 101, 'subsample': 0.7110430733090412, 'gamma': 0.4458794962489673}. Best is trial 18 with value: 0.5002525252525253.\n",
      "[I 2024-09-12 15:17:46,582] Trial 26 finished with value: 0.5214646464646464 and parameters: {'max_depth': 4, 'learning_rate': 0.05591822374570886, 'n_estimators': 145, 'subsample': 0.7644064997166127, 'gamma': 0.42708238590522646}. Best is trial 18 with value: 0.5002525252525253.\n",
      "[I 2024-09-12 15:17:48,256] Trial 27 finished with value: 0.851010101010101 and parameters: {'max_depth': 5, 'learning_rate': 0.01135055183048847, 'n_estimators': 72, 'subsample': 0.8361135124049849, 'gamma': 0.3608161857046982}. Best is trial 18 with value: 0.5002525252525253.\n",
      "[I 2024-09-12 15:17:49,016] Trial 28 finished with value: 0.5098484848484849 and parameters: {'max_depth': 6, 'learning_rate': 0.12758441836764595, 'n_estimators': 118, 'subsample': 0.6568157318674844, 'gamma': 0.32227732145212645}. Best is trial 18 with value: 0.5002525252525253.\n",
      "[I 2024-09-12 15:17:49,869] Trial 29 finished with value: 0.5156565656565657 and parameters: {'max_depth': 7, 'learning_rate': 0.046651574077364144, 'n_estimators': 88, 'subsample': 0.7102709599386274, 'gamma': 0.4941028486641432}. Best is trial 18 with value: 0.5002525252525253.\n",
      "[I 2024-09-12 15:17:53,627] Trial 30 finished with value: 0.5123737373737375 and parameters: {'max_depth': 4, 'learning_rate': 0.10265403052100025, 'n_estimators': 186, 'subsample': 0.7307912921521817, 'gamma': 0.43243792425568645}. Best is trial 18 with value: 0.5002525252525253.\n",
      "[I 2024-09-12 15:17:55,445] Trial 31 finished with value: 0.5118686868686868 and parameters: {'max_depth': 3, 'learning_rate': 0.14957264996991387, 'n_estimators': 156, 'subsample': 0.6592514750305962, 'gamma': 0.23693327604629408}. Best is trial 18 with value: 0.5002525252525253.\n",
      "[I 2024-09-12 15:17:56,045] Trial 32 finished with value: 0.513888888888889 and parameters: {'max_depth': 5, 'learning_rate': 0.07857025942362474, 'n_estimators': 110, 'subsample': 0.7779884285480411, 'gamma': 0.2840729604967852}. Best is trial 18 with value: 0.5002525252525253.\n",
      "[I 2024-09-12 15:17:57,034] Trial 33 finished with value: 0.526010101010101 and parameters: {'max_depth': 4, 'learning_rate': 0.23252181092192886, 'n_estimators': 198, 'subsample': 0.7512488172699169, 'gamma': 0.3768673683998773}. Best is trial 18 with value: 0.5002525252525253.\n",
      "[I 2024-09-12 15:17:59,338] Trial 34 finished with value: 0.5196969696969697 and parameters: {'max_depth': 6, 'learning_rate': 0.11447921019173747, 'n_estimators': 129, 'subsample': 0.6962477222607063, 'gamma': 0.3031650639173983}. Best is trial 18 with value: 0.5002525252525253.\n",
      "[I 2024-09-12 15:18:00,227] Trial 35 finished with value: 0.5446969696969697 and parameters: {'max_depth': 9, 'learning_rate': 0.13956830763795092, 'n_estimators': 252, 'subsample': 0.6603011151682717, 'gamma': 0.3417207817865478}. Best is trial 18 with value: 0.5002525252525253.\n",
      "[I 2024-09-12 15:18:00,892] Trial 36 finished with value: 0.5371212121212121 and parameters: {'max_depth': 7, 'learning_rate': 0.02636735490910322, 'n_estimators': 68, 'subsample': 0.7378369012307794, 'gamma': 0.2043015011443638}. Best is trial 18 with value: 0.5002525252525253.\n",
      "[I 2024-09-12 15:18:01,495] Trial 37 finished with value: 0.5146464646464646 and parameters: {'max_depth': 5, 'learning_rate': 0.15606143804786565, 'n_estimators': 96, 'subsample': 0.9630122214460317, 'gamma': 0.46318410482316724}. Best is trial 18 with value: 0.5002525252525253.\n",
      "[I 2024-09-12 15:18:01,812] Trial 38 finished with value: 0.5224747474747475 and parameters: {'max_depth': 3, 'learning_rate': 0.18924862068703202, 'n_estimators': 50, 'subsample': 0.8551889476409774, 'gamma': 0.41864789948880465}. Best is trial 18 with value: 0.5002525252525253.\n",
      "[I 2024-09-12 15:18:03,821] Trial 39 finished with value: 0.5171717171717172 and parameters: {'max_depth': 6, 'learning_rate': 0.09304720736951302, 'n_estimators': 203, 'subsample': 0.7911659260547186, 'gamma': 0.3953103999264228}. Best is trial 18 with value: 0.5002525252525253.\n",
      "[I 2024-09-12 15:18:05,820] Trial 40 finished with value: 0.5303030303030303 and parameters: {'max_depth': 4, 'learning_rate': 0.2894006210554743, 'n_estimators': 180, 'subsample': 0.7065591138291896, 'gamma': 0.2859668412860723}. Best is trial 18 with value: 0.5002525252525253.\n",
      "[I 2024-09-12 15:18:07,933] Trial 41 finished with value: 0.5141414141414141 and parameters: {'max_depth': 5, 'learning_rate': 0.11922806683192594, 'n_estimators': 118, 'subsample': 0.7493081885226969, 'gamma': 0.33646219539354877}. Best is trial 18 with value: 0.5002525252525253.\n",
      "[I 2024-09-12 15:18:08,771] Trial 42 finished with value: 0.5027777777777777 and parameters: {'max_depth': 5, 'learning_rate': 0.1615475902325563, 'n_estimators': 125, 'subsample': 0.7269756707331583, 'gamma': 0.3867308372721996}. Best is trial 18 with value: 0.5002525252525253.\n",
      "[I 2024-09-12 15:18:09,837] Trial 43 finished with value: 0.5164141414141413 and parameters: {'max_depth': 6, 'learning_rate': 0.16385059266719643, 'n_estimators': 156, 'subsample': 0.9284689942210416, 'gamma': 0.38437742171898853}. Best is trial 18 with value: 0.5002525252525253.\n",
      "[I 2024-09-12 15:18:12,663] Trial 44 finished with value: 0.5035353535353535 and parameters: {'max_depth': 4, 'learning_rate': 0.19969876271098252, 'n_estimators': 140, 'subsample': 0.6347427116435101, 'gamma': 0.4521366939347339}. Best is trial 18 with value: 0.5002525252525253.\n",
      "[I 2024-09-12 15:18:13,269] Trial 45 finished with value: 0.5189393939393939 and parameters: {'max_depth': 5, 'learning_rate': 0.19485317476293842, 'n_estimators': 131, 'subsample': 0.7672055308462227, 'gamma': 0.44708651441440705}. Best is trial 18 with value: 0.5002525252525253.\n",
      "[I 2024-09-12 15:18:13,970] Trial 46 finished with value: 0.5123737373737374 and parameters: {'max_depth': 4, 'learning_rate': 0.16165964109322112, 'n_estimators': 171, 'subsample': 0.6258345247211411, 'gamma': 0.4750408006036319}. Best is trial 18 with value: 0.5002525252525253.\n",
      "[I 2024-09-12 15:18:14,536] Trial 47 finished with value: 0.5118686868686869 and parameters: {'max_depth': 5, 'learning_rate': 0.24679480002007834, 'n_estimators': 144, 'subsample': 0.9893161119359738, 'gamma': 0.43455270020713344}. Best is trial 18 with value: 0.5002525252525253.\n",
      "[I 2024-09-12 15:18:16,596] Trial 48 finished with value: 0.5146464646464647 and parameters: {'max_depth': 4, 'learning_rate': 0.1970525506220019, 'n_estimators': 109, 'subsample': 0.6367808312636789, 'gamma': 0.34978959121374303}. Best is trial 18 with value: 0.5002525252525253.\n",
      "[I 2024-09-12 15:18:54,848] Trial 49 finished with value: 0.5058080808080808 and parameters: {'max_depth': 5, 'learning_rate': 0.17671566936777128, 'n_estimators': 86, 'subsample': 0.8067371233727307, 'gamma': 0.48329137129276917}. Best is trial 18 with value: 0.5002525252525253.\n",
      "[I 2024-09-12 15:22:20,422] Trial 50 finished with value: 0.5128787878787879 and parameters: {'max_depth': 10, 'learning_rate': 0.17418158346457263, 'n_estimators': 81, 'subsample': 0.8169181873070107, 'gamma': 0.4863658076509774}. Best is trial 18 with value: 0.5002525252525253.\n",
      "[I 2024-09-12 15:23:03,243] Trial 51 finished with value: 0.5126262626262627 and parameters: {'max_depth': 5, 'learning_rate': 0.18386185743118458, 'n_estimators': 99, 'subsample': 0.7260685454182426, 'gamma': 0.4622596219868585}. Best is trial 18 with value: 0.5002525252525253.\n",
      "[I 2024-09-12 15:26:14,813] Trial 52 finished with value: 0.5237373737373737 and parameters: {'max_depth': 4, 'learning_rate': 0.20388238298609176, 'n_estimators': 123, 'subsample': 0.8042285443143607, 'gamma': 0.4476445939806522}. Best is trial 18 with value: 0.5002525252525253.\n",
      "[I 2024-09-12 15:27:27,240] Trial 53 finished with value: 0.5045454545454546 and parameters: {'max_depth': 5, 'learning_rate': 0.13445613712125126, 'n_estimators': 88, 'subsample': 0.7936670651418593, 'gamma': 0.41295275808700094}. Best is trial 18 with value: 0.5002525252525253.\n",
      "[I 2024-09-12 15:29:48,972] Trial 54 finished with value: 0.5148989898989899 and parameters: {'max_depth': 6, 'learning_rate': 0.1656632869710057, 'n_estimators': 85, 'subsample': 0.8743063931749118, 'gamma': 0.4205671809045158}. Best is trial 18 with value: 0.5002525252525253.\n",
      "[I 2024-09-12 15:32:29,265] Trial 55 finished with value: 0.515909090909091 and parameters: {'max_depth': 4, 'learning_rate': 0.22797881454770122, 'n_estimators': 101, 'subsample': 0.7895478911608461, 'gamma': 0.3807913929175254}. Best is trial 18 with value: 0.5002525252525253.\n",
      "[W 2024-09-12 15:34:55,733] Trial 56 failed with parameters: {'max_depth': 5, 'learning_rate': 0.18304073901645546, 'n_estimators': 72, 'subsample': 0.8535037430951572, 'gamma': 0.47948875328285506} because of the following error: KeyboardInterrupt().\n",
      "Traceback (most recent call last):\n",
      "  File \"/home/jonas/Documents/Research/pub-ml-psl/.venv/lib/python3.11/site-packages/optuna/study/_optimize.py\", line 197, in _run_trial\n",
      "    value_or_values = func(trial)\n",
      "                      ^^^^^^^^^^^\n",
      "  File \"/tmp/ipykernel_180888/2415092116.py\", line 35, in objective\n",
      "    ).fit(X_train_, y_train)\n",
      "      ^^^^^^^^^^^^^^^^^^^^^^\n",
      "  File \"/home/jonas/Documents/Research/pub-ml-psl/.venv/lib/python3.11/site-packages/sklearn/base.py\", line 1474, in wrapper\n",
      "    return fit_method(estimator, *args, **kwargs)\n",
      "           ^^^^^^^^^^^^^^^^^^^^^^^^^^^^^^^^^^^^^^\n",
      "  File \"/home/jonas/Documents/Research/pub-ml-psl/.venv/lib/python3.11/site-packages/sklearn/pipeline.py\", line 475, in fit\n",
      "    self._final_estimator.fit(Xt, y, **last_step_params[\"fit\"])\n",
      "  File \"/home/jonas/Documents/Research/pub-ml-psl/.venv/lib/python3.11/site-packages/xgboost/core.py\", line 726, in inner_f\n",
      "    return func(**kwargs)\n",
      "           ^^^^^^^^^^^^^^\n",
      "  File \"/home/jonas/Documents/Research/pub-ml-psl/.venv/lib/python3.11/site-packages/xgboost/sklearn.py\", line 1531, in fit\n",
      "    self._Booster = train(\n",
      "                    ^^^^^^\n",
      "  File \"/home/jonas/Documents/Research/pub-ml-psl/.venv/lib/python3.11/site-packages/xgboost/core.py\", line 726, in inner_f\n",
      "    return func(**kwargs)\n",
      "           ^^^^^^^^^^^^^^\n",
      "  File \"/home/jonas/Documents/Research/pub-ml-psl/.venv/lib/python3.11/site-packages/xgboost/training.py\", line 181, in train\n",
      "    bst.update(dtrain, iteration=i, fobj=obj)\n",
      "  File \"/home/jonas/Documents/Research/pub-ml-psl/.venv/lib/python3.11/site-packages/xgboost/core.py\", line 2101, in update\n",
      "    _LIB.XGBoosterUpdateOneIter(\n",
      "KeyboardInterrupt\n",
      "[W 2024-09-12 15:34:55,755] Trial 56 failed with value None.\n"
     ]
    },
    {
     "ename": "KeyboardInterrupt",
     "evalue": "",
     "output_type": "error",
     "traceback": [
      "\u001b[0;31m---------------------------------------------------------------------------\u001b[0m",
      "\u001b[0;31mKeyboardInterrupt\u001b[0m                         Traceback (most recent call last)",
      "Cell \u001b[0;32mIn[18], line 48\u001b[0m\n\u001b[1;32m     43\u001b[0m     \u001b[38;5;28;01mreturn\u001b[39;00m np\u001b[38;5;241m.\u001b[39mmean(losses_out)\u001b[38;5;241m.\u001b[39mitem()\n\u001b[1;32m     47\u001b[0m study \u001b[38;5;241m=\u001b[39m optuna\u001b[38;5;241m.\u001b[39mcreate_study(direction\u001b[38;5;241m=\u001b[39m\u001b[38;5;124m'\u001b[39m\u001b[38;5;124mminimize\u001b[39m\u001b[38;5;124m'\u001b[39m)\n\u001b[0;32m---> 48\u001b[0m \u001b[43mstudy\u001b[49m\u001b[38;5;241;43m.\u001b[39;49m\u001b[43moptimize\u001b[49m\u001b[43m(\u001b[49m\u001b[43mobjective\u001b[49m\u001b[43m,\u001b[49m\u001b[43m \u001b[49m\u001b[43mn_trials\u001b[49m\u001b[38;5;241;43m=\u001b[39;49m\u001b[38;5;241;43m100\u001b[39;49m\u001b[43m)\u001b[49m\n",
      "File \u001b[0;32m~/Documents/Research/pub-ml-psl/.venv/lib/python3.11/site-packages/optuna/study/study.py:475\u001b[0m, in \u001b[0;36mStudy.optimize\u001b[0;34m(self, func, n_trials, timeout, n_jobs, catch, callbacks, gc_after_trial, show_progress_bar)\u001b[0m\n\u001b[1;32m    373\u001b[0m \u001b[38;5;28;01mdef\u001b[39;00m \u001b[38;5;21moptimize\u001b[39m(\n\u001b[1;32m    374\u001b[0m     \u001b[38;5;28mself\u001b[39m,\n\u001b[1;32m    375\u001b[0m     func: ObjectiveFuncType,\n\u001b[0;32m   (...)\u001b[0m\n\u001b[1;32m    382\u001b[0m     show_progress_bar: \u001b[38;5;28mbool\u001b[39m \u001b[38;5;241m=\u001b[39m \u001b[38;5;28;01mFalse\u001b[39;00m,\n\u001b[1;32m    383\u001b[0m ) \u001b[38;5;241m-\u001b[39m\u001b[38;5;241m>\u001b[39m \u001b[38;5;28;01mNone\u001b[39;00m:\n\u001b[1;32m    384\u001b[0m \u001b[38;5;250m    \u001b[39m\u001b[38;5;124;03m\"\"\"Optimize an objective function.\u001b[39;00m\n\u001b[1;32m    385\u001b[0m \n\u001b[1;32m    386\u001b[0m \u001b[38;5;124;03m    Optimization is done by choosing a suitable set of hyperparameter values from a given\u001b[39;00m\n\u001b[0;32m   (...)\u001b[0m\n\u001b[1;32m    473\u001b[0m \u001b[38;5;124;03m            If nested invocation of this method occurs.\u001b[39;00m\n\u001b[1;32m    474\u001b[0m \u001b[38;5;124;03m    \"\"\"\u001b[39;00m\n\u001b[0;32m--> 475\u001b[0m     \u001b[43m_optimize\u001b[49m\u001b[43m(\u001b[49m\n\u001b[1;32m    476\u001b[0m \u001b[43m        \u001b[49m\u001b[43mstudy\u001b[49m\u001b[38;5;241;43m=\u001b[39;49m\u001b[38;5;28;43mself\u001b[39;49m\u001b[43m,\u001b[49m\n\u001b[1;32m    477\u001b[0m \u001b[43m        \u001b[49m\u001b[43mfunc\u001b[49m\u001b[38;5;241;43m=\u001b[39;49m\u001b[43mfunc\u001b[49m\u001b[43m,\u001b[49m\n\u001b[1;32m    478\u001b[0m \u001b[43m        \u001b[49m\u001b[43mn_trials\u001b[49m\u001b[38;5;241;43m=\u001b[39;49m\u001b[43mn_trials\u001b[49m\u001b[43m,\u001b[49m\n\u001b[1;32m    479\u001b[0m \u001b[43m        \u001b[49m\u001b[43mtimeout\u001b[49m\u001b[38;5;241;43m=\u001b[39;49m\u001b[43mtimeout\u001b[49m\u001b[43m,\u001b[49m\n\u001b[1;32m    480\u001b[0m \u001b[43m        \u001b[49m\u001b[43mn_jobs\u001b[49m\u001b[38;5;241;43m=\u001b[39;49m\u001b[43mn_jobs\u001b[49m\u001b[43m,\u001b[49m\n\u001b[1;32m    481\u001b[0m \u001b[43m        \u001b[49m\u001b[43mcatch\u001b[49m\u001b[38;5;241;43m=\u001b[39;49m\u001b[38;5;28;43mtuple\u001b[39;49m\u001b[43m(\u001b[49m\u001b[43mcatch\u001b[49m\u001b[43m)\u001b[49m\u001b[43m \u001b[49m\u001b[38;5;28;43;01mif\u001b[39;49;00m\u001b[43m \u001b[49m\u001b[38;5;28;43misinstance\u001b[39;49m\u001b[43m(\u001b[49m\u001b[43mcatch\u001b[49m\u001b[43m,\u001b[49m\u001b[43m \u001b[49m\u001b[43mIterable\u001b[49m\u001b[43m)\u001b[49m\u001b[43m \u001b[49m\u001b[38;5;28;43;01melse\u001b[39;49;00m\u001b[43m \u001b[49m\u001b[43m(\u001b[49m\u001b[43mcatch\u001b[49m\u001b[43m,\u001b[49m\u001b[43m)\u001b[49m\u001b[43m,\u001b[49m\n\u001b[1;32m    482\u001b[0m \u001b[43m        \u001b[49m\u001b[43mcallbacks\u001b[49m\u001b[38;5;241;43m=\u001b[39;49m\u001b[43mcallbacks\u001b[49m\u001b[43m,\u001b[49m\n\u001b[1;32m    483\u001b[0m \u001b[43m        \u001b[49m\u001b[43mgc_after_trial\u001b[49m\u001b[38;5;241;43m=\u001b[39;49m\u001b[43mgc_after_trial\u001b[49m\u001b[43m,\u001b[49m\n\u001b[1;32m    484\u001b[0m \u001b[43m        \u001b[49m\u001b[43mshow_progress_bar\u001b[49m\u001b[38;5;241;43m=\u001b[39;49m\u001b[43mshow_progress_bar\u001b[49m\u001b[43m,\u001b[49m\n\u001b[1;32m    485\u001b[0m \u001b[43m    \u001b[49m\u001b[43m)\u001b[49m\n",
      "File \u001b[0;32m~/Documents/Research/pub-ml-psl/.venv/lib/python3.11/site-packages/optuna/study/_optimize.py:63\u001b[0m, in \u001b[0;36m_optimize\u001b[0;34m(study, func, n_trials, timeout, n_jobs, catch, callbacks, gc_after_trial, show_progress_bar)\u001b[0m\n\u001b[1;32m     61\u001b[0m \u001b[38;5;28;01mtry\u001b[39;00m:\n\u001b[1;32m     62\u001b[0m     \u001b[38;5;28;01mif\u001b[39;00m n_jobs \u001b[38;5;241m==\u001b[39m \u001b[38;5;241m1\u001b[39m:\n\u001b[0;32m---> 63\u001b[0m         \u001b[43m_optimize_sequential\u001b[49m\u001b[43m(\u001b[49m\n\u001b[1;32m     64\u001b[0m \u001b[43m            \u001b[49m\u001b[43mstudy\u001b[49m\u001b[43m,\u001b[49m\n\u001b[1;32m     65\u001b[0m \u001b[43m            \u001b[49m\u001b[43mfunc\u001b[49m\u001b[43m,\u001b[49m\n\u001b[1;32m     66\u001b[0m \u001b[43m            \u001b[49m\u001b[43mn_trials\u001b[49m\u001b[43m,\u001b[49m\n\u001b[1;32m     67\u001b[0m \u001b[43m            \u001b[49m\u001b[43mtimeout\u001b[49m\u001b[43m,\u001b[49m\n\u001b[1;32m     68\u001b[0m \u001b[43m            \u001b[49m\u001b[43mcatch\u001b[49m\u001b[43m,\u001b[49m\n\u001b[1;32m     69\u001b[0m \u001b[43m            \u001b[49m\u001b[43mcallbacks\u001b[49m\u001b[43m,\u001b[49m\n\u001b[1;32m     70\u001b[0m \u001b[43m            \u001b[49m\u001b[43mgc_after_trial\u001b[49m\u001b[43m,\u001b[49m\n\u001b[1;32m     71\u001b[0m \u001b[43m            \u001b[49m\u001b[43mreseed_sampler_rng\u001b[49m\u001b[38;5;241;43m=\u001b[39;49m\u001b[38;5;28;43;01mFalse\u001b[39;49;00m\u001b[43m,\u001b[49m\n\u001b[1;32m     72\u001b[0m \u001b[43m            \u001b[49m\u001b[43mtime_start\u001b[49m\u001b[38;5;241;43m=\u001b[39;49m\u001b[38;5;28;43;01mNone\u001b[39;49;00m\u001b[43m,\u001b[49m\n\u001b[1;32m     73\u001b[0m \u001b[43m            \u001b[49m\u001b[43mprogress_bar\u001b[49m\u001b[38;5;241;43m=\u001b[39;49m\u001b[43mprogress_bar\u001b[49m\u001b[43m,\u001b[49m\n\u001b[1;32m     74\u001b[0m \u001b[43m        \u001b[49m\u001b[43m)\u001b[49m\n\u001b[1;32m     75\u001b[0m     \u001b[38;5;28;01melse\u001b[39;00m:\n\u001b[1;32m     76\u001b[0m         \u001b[38;5;28;01mif\u001b[39;00m n_jobs \u001b[38;5;241m==\u001b[39m \u001b[38;5;241m-\u001b[39m\u001b[38;5;241m1\u001b[39m:\n",
      "File \u001b[0;32m~/Documents/Research/pub-ml-psl/.venv/lib/python3.11/site-packages/optuna/study/_optimize.py:160\u001b[0m, in \u001b[0;36m_optimize_sequential\u001b[0;34m(study, func, n_trials, timeout, catch, callbacks, gc_after_trial, reseed_sampler_rng, time_start, progress_bar)\u001b[0m\n\u001b[1;32m    157\u001b[0m         \u001b[38;5;28;01mbreak\u001b[39;00m\n\u001b[1;32m    159\u001b[0m \u001b[38;5;28;01mtry\u001b[39;00m:\n\u001b[0;32m--> 160\u001b[0m     frozen_trial \u001b[38;5;241m=\u001b[39m \u001b[43m_run_trial\u001b[49m\u001b[43m(\u001b[49m\u001b[43mstudy\u001b[49m\u001b[43m,\u001b[49m\u001b[43m \u001b[49m\u001b[43mfunc\u001b[49m\u001b[43m,\u001b[49m\u001b[43m \u001b[49m\u001b[43mcatch\u001b[49m\u001b[43m)\u001b[49m\n\u001b[1;32m    161\u001b[0m \u001b[38;5;28;01mfinally\u001b[39;00m:\n\u001b[1;32m    162\u001b[0m     \u001b[38;5;66;03m# The following line mitigates memory problems that can be occurred in some\u001b[39;00m\n\u001b[1;32m    163\u001b[0m     \u001b[38;5;66;03m# environments (e.g., services that use computing containers such as GitHub Actions).\u001b[39;00m\n\u001b[1;32m    164\u001b[0m     \u001b[38;5;66;03m# Please refer to the following PR for further details:\u001b[39;00m\n\u001b[1;32m    165\u001b[0m     \u001b[38;5;66;03m# https://github.com/optuna/optuna/pull/325.\u001b[39;00m\n\u001b[1;32m    166\u001b[0m     \u001b[38;5;28;01mif\u001b[39;00m gc_after_trial:\n",
      "File \u001b[0;32m~/Documents/Research/pub-ml-psl/.venv/lib/python3.11/site-packages/optuna/study/_optimize.py:248\u001b[0m, in \u001b[0;36m_run_trial\u001b[0;34m(study, func, catch)\u001b[0m\n\u001b[1;32m    241\u001b[0m         \u001b[38;5;28;01massert\u001b[39;00m \u001b[38;5;28;01mFalse\u001b[39;00m, \u001b[38;5;124m\"\u001b[39m\u001b[38;5;124mShould not reach.\u001b[39m\u001b[38;5;124m\"\u001b[39m\n\u001b[1;32m    243\u001b[0m \u001b[38;5;28;01mif\u001b[39;00m (\n\u001b[1;32m    244\u001b[0m     frozen_trial\u001b[38;5;241m.\u001b[39mstate \u001b[38;5;241m==\u001b[39m TrialState\u001b[38;5;241m.\u001b[39mFAIL\n\u001b[1;32m    245\u001b[0m     \u001b[38;5;129;01mand\u001b[39;00m func_err \u001b[38;5;129;01mis\u001b[39;00m \u001b[38;5;129;01mnot\u001b[39;00m \u001b[38;5;28;01mNone\u001b[39;00m\n\u001b[1;32m    246\u001b[0m     \u001b[38;5;129;01mand\u001b[39;00m \u001b[38;5;129;01mnot\u001b[39;00m \u001b[38;5;28misinstance\u001b[39m(func_err, catch)\n\u001b[1;32m    247\u001b[0m ):\n\u001b[0;32m--> 248\u001b[0m     \u001b[38;5;28;01mraise\u001b[39;00m func_err\n\u001b[1;32m    249\u001b[0m \u001b[38;5;28;01mreturn\u001b[39;00m frozen_trial\n",
      "File \u001b[0;32m~/Documents/Research/pub-ml-psl/.venv/lib/python3.11/site-packages/optuna/study/_optimize.py:197\u001b[0m, in \u001b[0;36m_run_trial\u001b[0;34m(study, func, catch)\u001b[0m\n\u001b[1;32m    195\u001b[0m \u001b[38;5;28;01mwith\u001b[39;00m get_heartbeat_thread(trial\u001b[38;5;241m.\u001b[39m_trial_id, study\u001b[38;5;241m.\u001b[39m_storage):\n\u001b[1;32m    196\u001b[0m     \u001b[38;5;28;01mtry\u001b[39;00m:\n\u001b[0;32m--> 197\u001b[0m         value_or_values \u001b[38;5;241m=\u001b[39m \u001b[43mfunc\u001b[49m\u001b[43m(\u001b[49m\u001b[43mtrial\u001b[49m\u001b[43m)\u001b[49m\n\u001b[1;32m    198\u001b[0m     \u001b[38;5;28;01mexcept\u001b[39;00m exceptions\u001b[38;5;241m.\u001b[39mTrialPruned \u001b[38;5;28;01mas\u001b[39;00m e:\n\u001b[1;32m    199\u001b[0m         \u001b[38;5;66;03m# TODO(mamu): Handle multi-objective cases.\u001b[39;00m\n\u001b[1;32m    200\u001b[0m         state \u001b[38;5;241m=\u001b[39m TrialState\u001b[38;5;241m.\u001b[39mPRUNED\n",
      "Cell \u001b[0;32mIn[18], line 35\u001b[0m, in \u001b[0;36mobjective\u001b[0;34m(trial)\u001b[0m\n\u001b[1;32m     29\u001b[0m X_train_ \u001b[38;5;241m=\u001b[39m X_train[:, stage\u001b[38;5;241m.\u001b[39mfeatures]\n\u001b[1;32m     30\u001b[0m X_test_ \u001b[38;5;241m=\u001b[39m X_test[:, stage\u001b[38;5;241m.\u001b[39mfeatures]\n\u001b[1;32m     32\u001b[0m clf_pipeline \u001b[38;5;241m=\u001b[39m \u001b[43mmake_pipeline\u001b[49m\u001b[43m(\u001b[49m\n\u001b[1;32m     33\u001b[0m \u001b[43m    \u001b[49m\u001b[43mSimpleImputer\u001b[49m\u001b[43m(\u001b[49m\u001b[43mmissing_values\u001b[49m\u001b[38;5;241;43m=\u001b[39;49m\u001b[38;5;241;43m-\u001b[39;49m\u001b[38;5;241;43m1\u001b[39;49m\u001b[43m,\u001b[49m\u001b[43m \u001b[49m\u001b[43mstrategy\u001b[49m\u001b[38;5;241;43m=\u001b[39;49m\u001b[38;5;124;43m\"\u001b[39;49m\u001b[38;5;124;43mmost_frequent\u001b[39;49m\u001b[38;5;124;43m\"\u001b[39;49m\u001b[43m)\u001b[49m\u001b[43m,\u001b[49m\n\u001b[1;32m     34\u001b[0m \u001b[43m    \u001b[49m\u001b[43mxgb\u001b[49m\u001b[38;5;241;43m.\u001b[39;49m\u001b[43mXGBClassifier\u001b[49m\u001b[43m(\u001b[49m\u001b[38;5;241;43m*\u001b[39;49m\u001b[38;5;241;43m*\u001b[39;49m\u001b[43mparam\u001b[49m\u001b[43m)\u001b[49m\u001b[43m,\u001b[49m\n\u001b[0;32m---> 35\u001b[0m \u001b[43m\u001b[49m\u001b[43m)\u001b[49m\u001b[38;5;241;43m.\u001b[39;49m\u001b[43mfit\u001b[49m\u001b[43m(\u001b[49m\u001b[43mX_train_\u001b[49m\u001b[43m,\u001b[49m\u001b[43m \u001b[49m\u001b[43my_train\u001b[49m\u001b[43m)\u001b[49m\n\u001b[1;32m     37\u001b[0m y_proba_out \u001b[38;5;241m=\u001b[39m clf_pipeline\u001b[38;5;241m.\u001b[39mpredict_proba(X_test_)\n\u001b[1;32m     38\u001b[0m y_proba_in \u001b[38;5;241m=\u001b[39m clf_pipeline\u001b[38;5;241m.\u001b[39mpredict_proba(X_train_)\n",
      "File \u001b[0;32m~/Documents/Research/pub-ml-psl/.venv/lib/python3.11/site-packages/sklearn/base.py:1474\u001b[0m, in \u001b[0;36m_fit_context.<locals>.decorator.<locals>.wrapper\u001b[0;34m(estimator, *args, **kwargs)\u001b[0m\n\u001b[1;32m   1467\u001b[0m     estimator\u001b[38;5;241m.\u001b[39m_validate_params()\n\u001b[1;32m   1469\u001b[0m \u001b[38;5;28;01mwith\u001b[39;00m config_context(\n\u001b[1;32m   1470\u001b[0m     skip_parameter_validation\u001b[38;5;241m=\u001b[39m(\n\u001b[1;32m   1471\u001b[0m         prefer_skip_nested_validation \u001b[38;5;129;01mor\u001b[39;00m global_skip_validation\n\u001b[1;32m   1472\u001b[0m     )\n\u001b[1;32m   1473\u001b[0m ):\n\u001b[0;32m-> 1474\u001b[0m     \u001b[38;5;28;01mreturn\u001b[39;00m \u001b[43mfit_method\u001b[49m\u001b[43m(\u001b[49m\u001b[43mestimator\u001b[49m\u001b[43m,\u001b[49m\u001b[43m \u001b[49m\u001b[38;5;241;43m*\u001b[39;49m\u001b[43margs\u001b[49m\u001b[43m,\u001b[49m\u001b[43m \u001b[49m\u001b[38;5;241;43m*\u001b[39;49m\u001b[38;5;241;43m*\u001b[39;49m\u001b[43mkwargs\u001b[49m\u001b[43m)\u001b[49m\n",
      "File \u001b[0;32m~/Documents/Research/pub-ml-psl/.venv/lib/python3.11/site-packages/sklearn/pipeline.py:475\u001b[0m, in \u001b[0;36mPipeline.fit\u001b[0;34m(self, X, y, **params)\u001b[0m\n\u001b[1;32m    473\u001b[0m     \u001b[38;5;28;01mif\u001b[39;00m \u001b[38;5;28mself\u001b[39m\u001b[38;5;241m.\u001b[39m_final_estimator \u001b[38;5;241m!=\u001b[39m \u001b[38;5;124m\"\u001b[39m\u001b[38;5;124mpassthrough\u001b[39m\u001b[38;5;124m\"\u001b[39m:\n\u001b[1;32m    474\u001b[0m         last_step_params \u001b[38;5;241m=\u001b[39m routed_params[\u001b[38;5;28mself\u001b[39m\u001b[38;5;241m.\u001b[39msteps[\u001b[38;5;241m-\u001b[39m\u001b[38;5;241m1\u001b[39m][\u001b[38;5;241m0\u001b[39m]]\n\u001b[0;32m--> 475\u001b[0m         \u001b[38;5;28;43mself\u001b[39;49m\u001b[38;5;241;43m.\u001b[39;49m\u001b[43m_final_estimator\u001b[49m\u001b[38;5;241;43m.\u001b[39;49m\u001b[43mfit\u001b[49m\u001b[43m(\u001b[49m\u001b[43mXt\u001b[49m\u001b[43m,\u001b[49m\u001b[43m \u001b[49m\u001b[43my\u001b[49m\u001b[43m,\u001b[49m\u001b[43m \u001b[49m\u001b[38;5;241;43m*\u001b[39;49m\u001b[38;5;241;43m*\u001b[39;49m\u001b[43mlast_step_params\u001b[49m\u001b[43m[\u001b[49m\u001b[38;5;124;43m\"\u001b[39;49m\u001b[38;5;124;43mfit\u001b[39;49m\u001b[38;5;124;43m\"\u001b[39;49m\u001b[43m]\u001b[49m\u001b[43m)\u001b[49m\n\u001b[1;32m    477\u001b[0m \u001b[38;5;28;01mreturn\u001b[39;00m \u001b[38;5;28mself\u001b[39m\n",
      "File \u001b[0;32m~/Documents/Research/pub-ml-psl/.venv/lib/python3.11/site-packages/xgboost/core.py:726\u001b[0m, in \u001b[0;36mrequire_keyword_args.<locals>.throw_if.<locals>.inner_f\u001b[0;34m(*args, **kwargs)\u001b[0m\n\u001b[1;32m    724\u001b[0m \u001b[38;5;28;01mfor\u001b[39;00m k, arg \u001b[38;5;129;01min\u001b[39;00m \u001b[38;5;28mzip\u001b[39m(sig\u001b[38;5;241m.\u001b[39mparameters, args):\n\u001b[1;32m    725\u001b[0m     kwargs[k] \u001b[38;5;241m=\u001b[39m arg\n\u001b[0;32m--> 726\u001b[0m \u001b[38;5;28;01mreturn\u001b[39;00m \u001b[43mfunc\u001b[49m\u001b[43m(\u001b[49m\u001b[38;5;241;43m*\u001b[39;49m\u001b[38;5;241;43m*\u001b[39;49m\u001b[43mkwargs\u001b[49m\u001b[43m)\u001b[49m\n",
      "File \u001b[0;32m~/Documents/Research/pub-ml-psl/.venv/lib/python3.11/site-packages/xgboost/sklearn.py:1531\u001b[0m, in \u001b[0;36mXGBClassifier.fit\u001b[0;34m(self, X, y, sample_weight, base_margin, eval_set, verbose, xgb_model, sample_weight_eval_set, base_margin_eval_set, feature_weights)\u001b[0m\n\u001b[1;32m   1511\u001b[0m model, metric, params \u001b[38;5;241m=\u001b[39m \u001b[38;5;28mself\u001b[39m\u001b[38;5;241m.\u001b[39m_configure_fit(xgb_model, params)\n\u001b[1;32m   1512\u001b[0m train_dmatrix, evals \u001b[38;5;241m=\u001b[39m _wrap_evaluation_matrices(\n\u001b[1;32m   1513\u001b[0m     missing\u001b[38;5;241m=\u001b[39m\u001b[38;5;28mself\u001b[39m\u001b[38;5;241m.\u001b[39mmissing,\n\u001b[1;32m   1514\u001b[0m     X\u001b[38;5;241m=\u001b[39mX,\n\u001b[0;32m   (...)\u001b[0m\n\u001b[1;32m   1528\u001b[0m     feature_types\u001b[38;5;241m=\u001b[39m\u001b[38;5;28mself\u001b[39m\u001b[38;5;241m.\u001b[39mfeature_types,\n\u001b[1;32m   1529\u001b[0m )\n\u001b[0;32m-> 1531\u001b[0m \u001b[38;5;28mself\u001b[39m\u001b[38;5;241m.\u001b[39m_Booster \u001b[38;5;241m=\u001b[39m \u001b[43mtrain\u001b[49m\u001b[43m(\u001b[49m\n\u001b[1;32m   1532\u001b[0m \u001b[43m    \u001b[49m\u001b[43mparams\u001b[49m\u001b[43m,\u001b[49m\n\u001b[1;32m   1533\u001b[0m \u001b[43m    \u001b[49m\u001b[43mtrain_dmatrix\u001b[49m\u001b[43m,\u001b[49m\n\u001b[1;32m   1534\u001b[0m \u001b[43m    \u001b[49m\u001b[38;5;28;43mself\u001b[39;49m\u001b[38;5;241;43m.\u001b[39;49m\u001b[43mget_num_boosting_rounds\u001b[49m\u001b[43m(\u001b[49m\u001b[43m)\u001b[49m\u001b[43m,\u001b[49m\n\u001b[1;32m   1535\u001b[0m \u001b[43m    \u001b[49m\u001b[43mevals\u001b[49m\u001b[38;5;241;43m=\u001b[39;49m\u001b[43mevals\u001b[49m\u001b[43m,\u001b[49m\n\u001b[1;32m   1536\u001b[0m \u001b[43m    \u001b[49m\u001b[43mearly_stopping_rounds\u001b[49m\u001b[38;5;241;43m=\u001b[39;49m\u001b[38;5;28;43mself\u001b[39;49m\u001b[38;5;241;43m.\u001b[39;49m\u001b[43mearly_stopping_rounds\u001b[49m\u001b[43m,\u001b[49m\n\u001b[1;32m   1537\u001b[0m \u001b[43m    \u001b[49m\u001b[43mevals_result\u001b[49m\u001b[38;5;241;43m=\u001b[39;49m\u001b[43mevals_result\u001b[49m\u001b[43m,\u001b[49m\n\u001b[1;32m   1538\u001b[0m \u001b[43m    \u001b[49m\u001b[43mobj\u001b[49m\u001b[38;5;241;43m=\u001b[39;49m\u001b[43mobj\u001b[49m\u001b[43m,\u001b[49m\n\u001b[1;32m   1539\u001b[0m \u001b[43m    \u001b[49m\u001b[43mcustom_metric\u001b[49m\u001b[38;5;241;43m=\u001b[39;49m\u001b[43mmetric\u001b[49m\u001b[43m,\u001b[49m\n\u001b[1;32m   1540\u001b[0m \u001b[43m    \u001b[49m\u001b[43mverbose_eval\u001b[49m\u001b[38;5;241;43m=\u001b[39;49m\u001b[43mverbose\u001b[49m\u001b[43m,\u001b[49m\n\u001b[1;32m   1541\u001b[0m \u001b[43m    \u001b[49m\u001b[43mxgb_model\u001b[49m\u001b[38;5;241;43m=\u001b[39;49m\u001b[43mmodel\u001b[49m\u001b[43m,\u001b[49m\n\u001b[1;32m   1542\u001b[0m \u001b[43m    \u001b[49m\u001b[43mcallbacks\u001b[49m\u001b[38;5;241;43m=\u001b[39;49m\u001b[38;5;28;43mself\u001b[39;49m\u001b[38;5;241;43m.\u001b[39;49m\u001b[43mcallbacks\u001b[49m\u001b[43m,\u001b[49m\n\u001b[1;32m   1543\u001b[0m \u001b[43m\u001b[49m\u001b[43m)\u001b[49m\n\u001b[1;32m   1545\u001b[0m \u001b[38;5;28;01mif\u001b[39;00m \u001b[38;5;129;01mnot\u001b[39;00m \u001b[38;5;28mcallable\u001b[39m(\u001b[38;5;28mself\u001b[39m\u001b[38;5;241m.\u001b[39mobjective):\n\u001b[1;32m   1546\u001b[0m     \u001b[38;5;28mself\u001b[39m\u001b[38;5;241m.\u001b[39mobjective \u001b[38;5;241m=\u001b[39m params[\u001b[38;5;124m\"\u001b[39m\u001b[38;5;124mobjective\u001b[39m\u001b[38;5;124m\"\u001b[39m]\n",
      "File \u001b[0;32m~/Documents/Research/pub-ml-psl/.venv/lib/python3.11/site-packages/xgboost/core.py:726\u001b[0m, in \u001b[0;36mrequire_keyword_args.<locals>.throw_if.<locals>.inner_f\u001b[0;34m(*args, **kwargs)\u001b[0m\n\u001b[1;32m    724\u001b[0m \u001b[38;5;28;01mfor\u001b[39;00m k, arg \u001b[38;5;129;01min\u001b[39;00m \u001b[38;5;28mzip\u001b[39m(sig\u001b[38;5;241m.\u001b[39mparameters, args):\n\u001b[1;32m    725\u001b[0m     kwargs[k] \u001b[38;5;241m=\u001b[39m arg\n\u001b[0;32m--> 726\u001b[0m \u001b[38;5;28;01mreturn\u001b[39;00m \u001b[43mfunc\u001b[49m\u001b[43m(\u001b[49m\u001b[38;5;241;43m*\u001b[39;49m\u001b[38;5;241;43m*\u001b[39;49m\u001b[43mkwargs\u001b[49m\u001b[43m)\u001b[49m\n",
      "File \u001b[0;32m~/Documents/Research/pub-ml-psl/.venv/lib/python3.11/site-packages/xgboost/training.py:181\u001b[0m, in \u001b[0;36mtrain\u001b[0;34m(params, dtrain, num_boost_round, evals, obj, feval, maximize, early_stopping_rounds, evals_result, verbose_eval, xgb_model, callbacks, custom_metric)\u001b[0m\n\u001b[1;32m    179\u001b[0m \u001b[38;5;28;01mif\u001b[39;00m cb_container\u001b[38;5;241m.\u001b[39mbefore_iteration(bst, i, dtrain, evals):\n\u001b[1;32m    180\u001b[0m     \u001b[38;5;28;01mbreak\u001b[39;00m\n\u001b[0;32m--> 181\u001b[0m \u001b[43mbst\u001b[49m\u001b[38;5;241;43m.\u001b[39;49m\u001b[43mupdate\u001b[49m\u001b[43m(\u001b[49m\u001b[43mdtrain\u001b[49m\u001b[43m,\u001b[49m\u001b[43m \u001b[49m\u001b[43miteration\u001b[49m\u001b[38;5;241;43m=\u001b[39;49m\u001b[43mi\u001b[49m\u001b[43m,\u001b[49m\u001b[43m \u001b[49m\u001b[43mfobj\u001b[49m\u001b[38;5;241;43m=\u001b[39;49m\u001b[43mobj\u001b[49m\u001b[43m)\u001b[49m\n\u001b[1;32m    182\u001b[0m \u001b[38;5;28;01mif\u001b[39;00m cb_container\u001b[38;5;241m.\u001b[39mafter_iteration(bst, i, dtrain, evals):\n\u001b[1;32m    183\u001b[0m     \u001b[38;5;28;01mbreak\u001b[39;00m\n",
      "File \u001b[0;32m~/Documents/Research/pub-ml-psl/.venv/lib/python3.11/site-packages/xgboost/core.py:2101\u001b[0m, in \u001b[0;36mBooster.update\u001b[0;34m(self, dtrain, iteration, fobj)\u001b[0m\n\u001b[1;32m   2097\u001b[0m \u001b[38;5;28mself\u001b[39m\u001b[38;5;241m.\u001b[39m_assign_dmatrix_features(dtrain)\n\u001b[1;32m   2099\u001b[0m \u001b[38;5;28;01mif\u001b[39;00m fobj \u001b[38;5;129;01mis\u001b[39;00m \u001b[38;5;28;01mNone\u001b[39;00m:\n\u001b[1;32m   2100\u001b[0m     _check_call(\n\u001b[0;32m-> 2101\u001b[0m         \u001b[43m_LIB\u001b[49m\u001b[38;5;241;43m.\u001b[39;49m\u001b[43mXGBoosterUpdateOneIter\u001b[49m\u001b[43m(\u001b[49m\n\u001b[1;32m   2102\u001b[0m \u001b[43m            \u001b[49m\u001b[38;5;28;43mself\u001b[39;49m\u001b[38;5;241;43m.\u001b[39;49m\u001b[43mhandle\u001b[49m\u001b[43m,\u001b[49m\u001b[43m \u001b[49m\u001b[43mctypes\u001b[49m\u001b[38;5;241;43m.\u001b[39;49m\u001b[43mc_int\u001b[49m\u001b[43m(\u001b[49m\u001b[43miteration\u001b[49m\u001b[43m)\u001b[49m\u001b[43m,\u001b[49m\u001b[43m \u001b[49m\u001b[43mdtrain\u001b[49m\u001b[38;5;241;43m.\u001b[39;49m\u001b[43mhandle\u001b[49m\n\u001b[1;32m   2103\u001b[0m \u001b[43m        \u001b[49m\u001b[43m)\u001b[49m\n\u001b[1;32m   2104\u001b[0m     )\n\u001b[1;32m   2105\u001b[0m \u001b[38;5;28;01melse\u001b[39;00m:\n\u001b[1;32m   2106\u001b[0m     pred \u001b[38;5;241m=\u001b[39m \u001b[38;5;28mself\u001b[39m\u001b[38;5;241m.\u001b[39mpredict(dtrain, output_margin\u001b[38;5;241m=\u001b[39m\u001b[38;5;28;01mTrue\u001b[39;00m, training\u001b[38;5;241m=\u001b[39m\u001b[38;5;28;01mTrue\u001b[39;00m)\n",
      "\u001b[0;31mKeyboardInterrupt\u001b[0m: "
     ]
    }
   ],
   "source": [
    "import optuna\n",
    "from sklearn.model_selection import train_test_split\n",
    "from xgboost import XGBClassifier\n",
    "import numpy as np\n",
    "\n",
    "psl_pipeline = make_pipeline(\n",
    "    SimpleImputer(missing_values=-1, strategy=\"most_frequent\"),\n",
    "    ProbabilisticScoringList(score_set=set(list(range(-3,4)))),\n",
    ").fit(X_train, y_train)\n",
    "\n",
    "psl = psl_pipeline[1]\n",
    "\n",
    "def objective(trial):\n",
    "    param = {\n",
    "        'max_depth': trial.suggest_int('max_depth', 3, 10),\n",
    "        'learning_rate': trial.suggest_float('learning_rate', 0.01, 0.3),\n",
    "        'n_estimators': trial.suggest_int('n_estimators', 50, 300),\n",
    "        'subsample': trial.suggest_float('subsample', 0.6, 1.0),\n",
    "        'gamma': trial.suggest_float('gamma', 0, 0.5)\n",
    "    }\n",
    "\n",
    "    losses_out = []\n",
    "    losses_in = []\n",
    "\n",
    "    for k, stage in enumerate(psl):\n",
    "        if k == 0:\n",
    "            continue\n",
    "\n",
    "        X_train_ = X_train[:, stage.features]\n",
    "        X_test_ = X_test[:, stage.features]\n",
    "\n",
    "        clf_pipeline = make_pipeline(\n",
    "            SimpleImputer(missing_values=-1, strategy=\"most_frequent\"),\n",
    "            xgb.XGBClassifier(**param),\n",
    "        ).fit(X_train_, y_train)\n",
    "\n",
    "        y_proba_out = clf_pipeline.predict_proba(X_test_)\n",
    "        y_proba_in = clf_pipeline.predict_proba(X_train_)\n",
    "        stages.append(k)\n",
    "        losses_out.append(conservative_weighted_loss(y_test, y_proba_out, m=10))\n",
    "        losses_in.append(conservative_weighted_loss(y_train, y_proba_in, m=10))\n",
    "\n",
    "    return np.mean(losses_out).item()\n",
    "\n",
    "\n",
    "\n",
    "study = optuna.create_study(direction='minimize')\n",
    "study.optimize(objective, n_trials=100)\n",
    "\n"
   ]
  },
  {
   "cell_type": "code",
   "execution_count": null,
   "metadata": {},
   "outputs": [
    {
     "name": "stdout",
     "output_type": "stream",
     "text": [
      "Best parameters found:  {'max_depth': 4, 'learning_rate': 0.2783043321800373, 'n_estimators': 84, 'subsample': 0.6008639429753931, 'gamma': 0.4611811408482283}\n"
     ]
    }
   ],
   "source": [
    "print(\"Best parameters found: \", study.best_params)\n"
   ]
  },
  {
   "cell_type": "code",
   "execution_count": null,
   "metadata": {},
   "outputs": [],
   "source": []
  },
  {
   "cell_type": "code",
   "execution_count": null,
   "metadata": {},
   "outputs": [],
   "source": []
  }
 ],
 "metadata": {
  "kernelspec": {
   "display_name": ".venv",
   "language": "python",
   "name": "python3"
  },
  "language_info": {
   "codemirror_mode": {
    "name": "ipython",
    "version": 3
   },
   "file_extension": ".py",
   "mimetype": "text/x-python",
   "name": "python",
   "nbconvert_exporter": "python",
   "pygments_lexer": "ipython3",
   "version": "3.11.5"
  }
 },
 "nbformat": 4,
 "nbformat_minor": 2
}
